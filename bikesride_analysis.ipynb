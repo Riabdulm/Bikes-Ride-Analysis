{
  "cells": [
    {
      "cell_type": "markdown",
      "metadata": {
        "id": "view-in-github",
        "colab_type": "text"
      },
      "source": [
        "<a href=\"https://colab.research.google.com/github/Riabdulm/Bikes-Ride-Analysis/blob/main/bikesride_analysis.ipynb\" target=\"_parent\"><img src=\"https://colab.research.google.com/assets/colab-badge.svg\" alt=\"Open In Colab\"/></a>"
      ]
    },
    {
      "cell_type": "markdown",
      "source": [
        "# **Introduction**\n",
        "\n",
        "Cyclistic launched a successful bike-share offering. Since then, the program has grown to a fleet of 5,824 bicycles that are geo-tracked and locked into a network of 692 stations across Chicago. One approach that helped make these things possible was the flexibility of its pricing plans: single-ride passes, full-day passes, and annual memberships. Customers who purchase single-ride or full-day passes are referred to as casual riders. Customers who purchase annual memberships are Cyclistic members. \n",
        "\n",
        "Cyclistic’s finance analysts have concluded that annual members are much more profitable than casual riders. Although the pricing flexibility helps Cyclistic attract more customers, the management believes that maximizing the number of annual members will be key to the company’s future growth. Also, it will save the company’s acquisition cost of new customers. For that reason, the management team has set a clear goal: Design marketing strategies aimed at converting casual riders into annual members."
      ],
      "metadata": {
        "id": "2oH2DyUNVf1i"
      }
    },
    {
      "cell_type": "markdown",
      "source": [
        "\n",
        "## **Objectives of the Analysis** \n",
        "\n",
        "Objective of the task is to:\n",
        " \n",
        "\n",
        "*  Understand how annual members of the company and casual riders differ in terms of the company’s bikes usage\n",
        "*   Make recommendations on how to convert casual riders to annual members\n",
        "\n",
        "This will be done by analysing the historical data of the company to identify trends in bikes' usage by these two different customer segments."
      ],
      "metadata": {
        "id": "GqRnU7EDmqZK"
      }
    },
    {
      "cell_type": "markdown",
      "source": [
        "### **Data Sourcing and Preparation**\n",
        "\n",
        "The data is a public data located on the web and available for download - https://divvy-tripdata.s3.amazonaws.com/index.html. The data is licenced under the Data Licence Agreement and the data verification is done as agreed in this licence. Personal information cannot be used in order to protect the privacy of the riders.\n",
        "\n",
        "#### **Data Charactersitics**\n",
        "\n",
        "The data used is the Cyclistic trip data for 12 months period - November 2021 to October 2022. The complete data for the time period was available for download, therefore, the data is unbiased as the whole population data was collected and not a sample. The total data for the 12-month period is over 5.7 million, which means, there were over 5.7 million rides in that duraction."
      ],
      "metadata": {
        "id": "ic_pA6p9muGu"
      }
    },
    {
      "cell_type": "markdown",
      "source": [
        "### **Data Processing**\n",
        "\n",
        "**Tools used** include: Microsoft Excel, SQL (Google BigQuery) and Python\n",
        "\n",
        "\n",
        "**Microsoft Excel**:\n",
        "\n",
        "1.  Created column for ride_length by subtracting ended_at from started_at time\n",
        "2.  Created column for day_of_week of the week using started_at column. Weekday command was used to return day as 1-7. Then coded the day with IFS to show day as Sun = 1, Mon = 2 to Sat = 7\n",
        "3.\tCreated column for month using started_at_column to return month and coded with IF to show month as string \n",
        "4.\tRenamed column from member_casual to membership_type\n",
        "5.\tFiltered out rows with empty or irregular data for (ride_id, rideable_type, ride_length, day_of_week, member_casual)\n",
        "\n",
        "\n",
        "**SQL:**\n",
        "1. Imported the monthly csv data into SQL for the period Nov 2021 to Oct 2022\n",
        "2. UNION ALL the monthly data together into a large dataset of 5.7m rows of data and exported to Python for analysis"
      ],
      "metadata": {
        "id": "tCgRXRkY1v_P"
      }
    },
    {
      "cell_type": "markdown",
      "source": [
        "### **Importing needed Libraries and setting up google colab**"
      ],
      "metadata": {
        "id": "c6mFDXBD5K97"
      }
    },
    {
      "cell_type": "code",
      "source": [
        "# @title Setup\n",
        "from google.colab import auth\n",
        "from google.cloud import bigquery\n",
        "from google.colab import data_table\n",
        "\n",
        "project = 'data-analysis-368804'           # Project ID inserted based on the query results selected to explore\n",
        "location = 'northamerica-northeast2'        # Location inserted based on the query results selected to explore\n",
        "client = bigquery.Client(project=project, location=location)\n",
        "data_table.enable_dataframe_formatter()\n",
        "auth.authenticate_user()"
      ],
      "metadata": {
        "id": "JC1s1JmP5SjF"
      },
      "execution_count": null,
      "outputs": []
    },
    {
      "cell_type": "markdown",
      "metadata": {
        "id": "pj42soltXW_H"
      },
      "source": [
        "### **Referencing SQL syntax from BigQuery**\n",
        "\n",
        "Getting the dataset from Google SQL BigQuery "
      ]
    },
    {
      "cell_type": "code",
      "execution_count": 3,
      "metadata": {
        "id": "KxSqPfAeXW_K",
        "outputId": "5203cbb2-cf53-4d33-c93c-9c9e9a343e1e",
        "colab": {
          "base_uri": "https://localhost:8080/"
        }
      },
      "outputs": [
        {
          "output_type": "stream",
          "name": "stdout",
          "text": [
            "SELECT ride_id as ride_id, rideable_type as ride_type, ride_length as ride_length, day_of_week as day, month as month, membership_type as membership_type\n",
            "FROM data-analysis-368804.bikesride.nov_2021_bikesride \n",
            "UNION ALL\n",
            "\n",
            "SELECT ride_id as ride_id, rideable_type as ride_type, ride_length as ride_length, day_of_week as day, month as month, membership_type as membership_type\n",
            "FROM data-analysis-368804.bikesride.dec_2021_bikesride\n",
            "UNION ALL\n",
            "\n",
            "SELECT ride_id as ride_id, rideable_type as ride_type, ride_length as ride_length, day_of_week as day, month as month, membership_type as membership_type\n",
            "FROM data-analysis-368804.bikesride.jan_2022_bikesride\n",
            "UNION ALL\n",
            "\n",
            "SELECT ride_id as ride_id, rideable_type as ride_type, ride_length as ride_length, day_of_week as day, month as month, membership_type as membership_type\n",
            "FROM data-analysis-368804.bikesride.feb_2022_bikesride\n",
            "UNION ALL\n",
            "\n",
            "SELECT ride_id as ride_id, rideable_type as ride_type, ride_length as ride_length, day_of_week as day, month as month, membership_type as membership_type\n",
            "FROM data-analysis-368804.bikesride.mar_2022_bikesride\n",
            "UNION ALL\n",
            "\n",
            "SELECT ride_id as ride_id, rideable_type as ride_type, ride_length as ride_length, day_of_week as day, month as month, membership_type as membership_type\n",
            "FROM data-analysis-368804.bikesride.apr_2022_bikesride\n",
            "UNION ALL\n",
            "\n",
            "SELECT ride_id as ride_id, rideable_type as ride_type, ride_length as ride_length, day_of_week as day, month as month, membership_type as membership_type\n",
            "FROM data-analysis-368804.bikesride.may1_2022_bikesride\n",
            "UNION ALL\n",
            "\n",
            "SELECT ride_id as ride_id, rideable_type as ride_type, ride_length as ride_length, day_of_week as day, month as month, membership_type as membership_type\n",
            "FROM data-analysis-368804.bikesride.may2_2022_bikesride\n",
            "UNION ALL\n",
            "\n",
            "SELECT ride_id as ride_id, rideable_type as ride_type, ride_length as ride_length, day_of_week as day, month as month, membersip_type as membership_type\n",
            "FROM data-analysis-368804.bikesride.jun1_2022_bikesride\n",
            "UNION ALL\n",
            "\n",
            "SELECT ride_id as ride_id, rideable_type as ride_type, ride_length as ride_length, day_of_week as day, month as month, membersip_type as membership_type\n",
            "FROM data-analysis-368804.bikesride.jun2_2022_bikesride\n",
            "UNION ALL\n",
            "\n",
            "SELECT ride_id as ride_id, rideable_type as ride_type, ride_length as ride_length, day_of_week as day, month as month, membership_type as membership_type\n",
            "FROM data-analysis-368804.bikesride.jul1_2022_bikesride\n",
            "UNION ALL\n",
            "\n",
            "SELECT ride_id as ride_id, rideable_type as ride_type, ride_length as ride_length, day_of_week as day, month as month, membership_type as membership_type\n",
            "FROM data-analysis-368804.bikesride.jul2_2022_bikesride\n",
            "UNION ALL\n",
            "\n",
            "SELECT ride_id as ride_id, rideable_type as ride_type, ride_length as ride_length, day_of_week as day, month as month, membership_type as membership_type\n",
            "FROM data-analysis-368804.bikesride.aug1_2022_bikesride\n",
            "UNION ALL\n",
            "\n",
            "SELECT ride_id as ride_id, rideable_type as ride_type, ride_length as ride_length, day_of_week as day, month as month, membership_type as membership_type\n",
            "FROM data-analysis-368804.bikesride.aug2_2022_bikesride\n",
            "UNION ALL\n",
            "\n",
            "SELECT ride_id as ride_id, rideable_type as ride_type, ride_length as ride_length, day_of_week as day, month as month, membersip_type as membership_type\n",
            "FROM data-analysis-368804.bikesride.sep1_2022_bikesride\n",
            "UNION ALL\n",
            "\n",
            "SELECT ride_id as ride_id, rideable_type as ride_type, ride_length as ride_length, day_of_week as day, month as month, membersip_type as membership_type\n",
            "FROM data-analysis-368804.bikesride.sep2_2022_bikesride\n",
            "UNION ALL\n",
            "\n",
            "SELECT ride_id as ride_id, rideable_type as ride_type, ride_length as ride_length, day_of_week as day, month as month, membership_type as membership_type\n",
            "FROM data-analysis-368804.bikesride.oct1_2022_bikesride\n",
            "UNION ALL\n",
            "\n",
            "SELECT ride_id as ride_id, rideable_type as ride_type, ride_length as ride_length, day_of_week as day, month as month, membership_type as membership_type\n",
            "FROM data-analysis-368804.bikesride.oct2_2022_bikesride\n",
            "\n",
            "\n",
            "\n",
            "\n",
            "\n",
            "\n",
            "\n",
            "\n",
            "\n",
            "\n",
            "\n",
            "\n",
            "\n",
            "\n",
            "\n",
            "\n",
            "\n",
            "\n",
            "\n",
            "\n",
            "\n",
            "\n",
            "\n",
            "\n",
            "\n",
            "\n",
            "\n"
          ]
        }
      ],
      "source": [
        "# Running this code will display the query used to generate your previous job\n",
        "\n",
        "job = client.get_job('bquxjob_5242814_18483545f0e')           # Job ID inserted based on the query results selected to explore\n",
        "print(job.query)"
      ]
    },
    {
      "cell_type": "markdown",
      "metadata": {
        "id": "eY-wNOGO11ON"
      },
      "source": [
        "## Loading data from BigQuery job as a DataFrame\n",
        "Query results are referenced from the Job ID ran from BigQuery"
      ]
    },
    {
      "cell_type": "code",
      "execution_count": 4,
      "metadata": {
        "id": "bIw82qhuHWy0",
        "outputId": "1365c144-5e37-41e5-ffff-1b08d665b9d5",
        "colab": {
          "base_uri": "https://localhost:8080/",
          "height": 441
        }
      },
      "outputs": [
        {
          "output_type": "stream",
          "name": "stdout",
          "text": [
            "Warning: total number of rows (5755506) exceeds max_rows (20000). Falling back to pandas display.\n"
          ]
        },
        {
          "output_type": "execute_result",
          "data": {
            "text/plain": [
              "                  ride_id      ride_type ride_length  day month  \\\n",
              "0        4E91A0F20A8FC843  electric_bike    00:08:52  Sun   Jan   \n",
              "1        C540BF18E7A4CD3E  electric_bike    00:02:52  Sun   Jan   \n",
              "2        48E4A99E846EBD80  electric_bike    00:14:26  Sun   Jan   \n",
              "3        13C01F19851BA82D  electric_bike    00:17:59  Sun   Jan   \n",
              "4        CE586E32DC1E2D39  electric_bike    00:17:13  Sun   Jan   \n",
              "...                   ...            ...         ...  ...   ...   \n",
              "5755501  A21EC4BB5DCBC212  electric_bike    00:06:04  Sat   Nov   \n",
              "5755502  EAC2E707BAD458B4  electric_bike    00:39:49  Sat   Nov   \n",
              "5755503  AB15CFE35ACB40F5  electric_bike    00:05:21  Sat   Nov   \n",
              "5755504  DC5B24377CE23984   classic_bike    00:24:17  Sat   Nov   \n",
              "5755505  14894435D7AC4AA1  electric_bike    00:35:33  Sat   Nov   \n",
              "\n",
              "        membership_type  \n",
              "0                member  \n",
              "1                member  \n",
              "2                casual  \n",
              "3                member  \n",
              "4                member  \n",
              "...                 ...  \n",
              "5755501          member  \n",
              "5755502          casual  \n",
              "5755503          member  \n",
              "5755504          casual  \n",
              "5755505          member  \n",
              "\n",
              "[5755506 rows x 6 columns]"
            ],
            "text/html": [
              "\n",
              "  <div id=\"df-c8748224-792a-4670-baa7-950242869a6e\">\n",
              "    <div class=\"colab-df-container\">\n",
              "      <div>\n",
              "<style scoped>\n",
              "    .dataframe tbody tr th:only-of-type {\n",
              "        vertical-align: middle;\n",
              "    }\n",
              "\n",
              "    .dataframe tbody tr th {\n",
              "        vertical-align: top;\n",
              "    }\n",
              "\n",
              "    .dataframe thead th {\n",
              "        text-align: right;\n",
              "    }\n",
              "</style>\n",
              "<table border=\"1\" class=\"dataframe\">\n",
              "  <thead>\n",
              "    <tr style=\"text-align: right;\">\n",
              "      <th></th>\n",
              "      <th>ride_id</th>\n",
              "      <th>ride_type</th>\n",
              "      <th>ride_length</th>\n",
              "      <th>day</th>\n",
              "      <th>month</th>\n",
              "      <th>membership_type</th>\n",
              "    </tr>\n",
              "  </thead>\n",
              "  <tbody>\n",
              "    <tr>\n",
              "      <th>0</th>\n",
              "      <td>4E91A0F20A8FC843</td>\n",
              "      <td>electric_bike</td>\n",
              "      <td>00:08:52</td>\n",
              "      <td>Sun</td>\n",
              "      <td>Jan</td>\n",
              "      <td>member</td>\n",
              "    </tr>\n",
              "    <tr>\n",
              "      <th>1</th>\n",
              "      <td>C540BF18E7A4CD3E</td>\n",
              "      <td>electric_bike</td>\n",
              "      <td>00:02:52</td>\n",
              "      <td>Sun</td>\n",
              "      <td>Jan</td>\n",
              "      <td>member</td>\n",
              "    </tr>\n",
              "    <tr>\n",
              "      <th>2</th>\n",
              "      <td>48E4A99E846EBD80</td>\n",
              "      <td>electric_bike</td>\n",
              "      <td>00:14:26</td>\n",
              "      <td>Sun</td>\n",
              "      <td>Jan</td>\n",
              "      <td>casual</td>\n",
              "    </tr>\n",
              "    <tr>\n",
              "      <th>3</th>\n",
              "      <td>13C01F19851BA82D</td>\n",
              "      <td>electric_bike</td>\n",
              "      <td>00:17:59</td>\n",
              "      <td>Sun</td>\n",
              "      <td>Jan</td>\n",
              "      <td>member</td>\n",
              "    </tr>\n",
              "    <tr>\n",
              "      <th>4</th>\n",
              "      <td>CE586E32DC1E2D39</td>\n",
              "      <td>electric_bike</td>\n",
              "      <td>00:17:13</td>\n",
              "      <td>Sun</td>\n",
              "      <td>Jan</td>\n",
              "      <td>member</td>\n",
              "    </tr>\n",
              "    <tr>\n",
              "      <th>...</th>\n",
              "      <td>...</td>\n",
              "      <td>...</td>\n",
              "      <td>...</td>\n",
              "      <td>...</td>\n",
              "      <td>...</td>\n",
              "      <td>...</td>\n",
              "    </tr>\n",
              "    <tr>\n",
              "      <th>5755501</th>\n",
              "      <td>A21EC4BB5DCBC212</td>\n",
              "      <td>electric_bike</td>\n",
              "      <td>00:06:04</td>\n",
              "      <td>Sat</td>\n",
              "      <td>Nov</td>\n",
              "      <td>member</td>\n",
              "    </tr>\n",
              "    <tr>\n",
              "      <th>5755502</th>\n",
              "      <td>EAC2E707BAD458B4</td>\n",
              "      <td>electric_bike</td>\n",
              "      <td>00:39:49</td>\n",
              "      <td>Sat</td>\n",
              "      <td>Nov</td>\n",
              "      <td>casual</td>\n",
              "    </tr>\n",
              "    <tr>\n",
              "      <th>5755503</th>\n",
              "      <td>AB15CFE35ACB40F5</td>\n",
              "      <td>electric_bike</td>\n",
              "      <td>00:05:21</td>\n",
              "      <td>Sat</td>\n",
              "      <td>Nov</td>\n",
              "      <td>member</td>\n",
              "    </tr>\n",
              "    <tr>\n",
              "      <th>5755504</th>\n",
              "      <td>DC5B24377CE23984</td>\n",
              "      <td>classic_bike</td>\n",
              "      <td>00:24:17</td>\n",
              "      <td>Sat</td>\n",
              "      <td>Nov</td>\n",
              "      <td>casual</td>\n",
              "    </tr>\n",
              "    <tr>\n",
              "      <th>5755505</th>\n",
              "      <td>14894435D7AC4AA1</td>\n",
              "      <td>electric_bike</td>\n",
              "      <td>00:35:33</td>\n",
              "      <td>Sat</td>\n",
              "      <td>Nov</td>\n",
              "      <td>member</td>\n",
              "    </tr>\n",
              "  </tbody>\n",
              "</table>\n",
              "<p>5755506 rows × 6 columns</p>\n",
              "</div>\n",
              "      <button class=\"colab-df-convert\" onclick=\"convertToInteractive('df-c8748224-792a-4670-baa7-950242869a6e')\"\n",
              "              title=\"Convert this dataframe to an interactive table.\"\n",
              "              style=\"display:none;\">\n",
              "        \n",
              "  <svg xmlns=\"http://www.w3.org/2000/svg\" height=\"24px\"viewBox=\"0 0 24 24\"\n",
              "       width=\"24px\">\n",
              "    <path d=\"M0 0h24v24H0V0z\" fill=\"none\"/>\n",
              "    <path d=\"M18.56 5.44l.94 2.06.94-2.06 2.06-.94-2.06-.94-.94-2.06-.94 2.06-2.06.94zm-11 1L8.5 8.5l.94-2.06 2.06-.94-2.06-.94L8.5 2.5l-.94 2.06-2.06.94zm10 10l.94 2.06.94-2.06 2.06-.94-2.06-.94-.94-2.06-.94 2.06-2.06.94z\"/><path d=\"M17.41 7.96l-1.37-1.37c-.4-.4-.92-.59-1.43-.59-.52 0-1.04.2-1.43.59L10.3 9.45l-7.72 7.72c-.78.78-.78 2.05 0 2.83L4 21.41c.39.39.9.59 1.41.59.51 0 1.02-.2 1.41-.59l7.78-7.78 2.81-2.81c.8-.78.8-2.07 0-2.86zM5.41 20L4 18.59l7.72-7.72 1.47 1.35L5.41 20z\"/>\n",
              "  </svg>\n",
              "      </button>\n",
              "      \n",
              "  <style>\n",
              "    .colab-df-container {\n",
              "      display:flex;\n",
              "      flex-wrap:wrap;\n",
              "      gap: 12px;\n",
              "    }\n",
              "\n",
              "    .colab-df-convert {\n",
              "      background-color: #E8F0FE;\n",
              "      border: none;\n",
              "      border-radius: 50%;\n",
              "      cursor: pointer;\n",
              "      display: none;\n",
              "      fill: #1967D2;\n",
              "      height: 32px;\n",
              "      padding: 0 0 0 0;\n",
              "      width: 32px;\n",
              "    }\n",
              "\n",
              "    .colab-df-convert:hover {\n",
              "      background-color: #E2EBFA;\n",
              "      box-shadow: 0px 1px 2px rgba(60, 64, 67, 0.3), 0px 1px 3px 1px rgba(60, 64, 67, 0.15);\n",
              "      fill: #174EA6;\n",
              "    }\n",
              "\n",
              "    [theme=dark] .colab-df-convert {\n",
              "      background-color: #3B4455;\n",
              "      fill: #D2E3FC;\n",
              "    }\n",
              "\n",
              "    [theme=dark] .colab-df-convert:hover {\n",
              "      background-color: #434B5C;\n",
              "      box-shadow: 0px 1px 3px 1px rgba(0, 0, 0, 0.15);\n",
              "      filter: drop-shadow(0px 1px 2px rgba(0, 0, 0, 0.3));\n",
              "      fill: #FFFFFF;\n",
              "    }\n",
              "  </style>\n",
              "\n",
              "      <script>\n",
              "        const buttonEl =\n",
              "          document.querySelector('#df-c8748224-792a-4670-baa7-950242869a6e button.colab-df-convert');\n",
              "        buttonEl.style.display =\n",
              "          google.colab.kernel.accessAllowed ? 'block' : 'none';\n",
              "\n",
              "        async function convertToInteractive(key) {\n",
              "          const element = document.querySelector('#df-c8748224-792a-4670-baa7-950242869a6e');\n",
              "          const dataTable =\n",
              "            await google.colab.kernel.invokeFunction('convertToInteractive',\n",
              "                                                     [key], {});\n",
              "          if (!dataTable) return;\n",
              "\n",
              "          const docLinkHtml = 'Like what you see? Visit the ' +\n",
              "            '<a target=\"_blank\" href=https://colab.research.google.com/notebooks/data_table.ipynb>data table notebook</a>'\n",
              "            + ' to learn more about interactive tables.';\n",
              "          element.innerHTML = '';\n",
              "          dataTable['output_type'] = 'display_data';\n",
              "          await google.colab.output.renderOutput(dataTable, element);\n",
              "          const docLink = document.createElement('div');\n",
              "          docLink.innerHTML = docLinkHtml;\n",
              "          element.appendChild(docLink);\n",
              "        }\n",
              "      </script>\n",
              "    </div>\n",
              "  </div>\n",
              "  "
            ]
          },
          "metadata": {},
          "execution_count": 4
        }
      ],
      "source": [
        "job = client.get_job('bquxjob_5242814_18483545f0e')                   # Job ID inserted based on the query results selected to explore\n",
        "bikes_ride = job.to_dataframe()\n",
        "bikes_ride"
      ]
    },
    {
      "cell_type": "markdown",
      "source": [
        "## **Data Processing**\n",
        "\n",
        "### Checking missing values"
      ],
      "metadata": {
        "id": "HYfM8TBaV0yp"
      }
    },
    {
      "cell_type": "code",
      "source": [
        "bikes_ride.isnull().sum()"
      ],
      "metadata": {
        "colab": {
          "base_uri": "https://localhost:8080/"
        },
        "id": "0cDs_X51WFBU",
        "outputId": "861d62b7-728a-463d-e56f-24fbd4f18d53"
      },
      "execution_count": 5,
      "outputs": [
        {
          "output_type": "execute_result",
          "data": {
            "text/plain": [
              "ride_id            0\n",
              "ride_type          0\n",
              "ride_length        0\n",
              "day                0\n",
              "month              0\n",
              "membership_type    0\n",
              "dtype: int64"
            ]
          },
          "metadata": {},
          "execution_count": 5
        }
      ]
    },
    {
      "cell_type": "markdown",
      "source": [
        "No missing values from any of the attributes "
      ],
      "metadata": {
        "id": "lL23ALOXWJIW"
      }
    },
    {
      "cell_type": "code",
      "source": [
        "bikes_ride.info()"
      ],
      "metadata": {
        "colab": {
          "base_uri": "https://localhost:8080/"
        },
        "id": "r2VACEALZaJj",
        "outputId": "898f512f-2e06-4919-ca7c-96330b35199b"
      },
      "execution_count": 6,
      "outputs": [
        {
          "output_type": "stream",
          "name": "stdout",
          "text": [
            "<class 'pandas.core.frame.DataFrame'>\n",
            "RangeIndex: 5755506 entries, 0 to 5755505\n",
            "Data columns (total 6 columns):\n",
            " #   Column           Dtype \n",
            "---  ------           ----- \n",
            " 0   ride_id          object\n",
            " 1   ride_type        object\n",
            " 2   ride_length      dbtime\n",
            " 3   day              object\n",
            " 4   month            object\n",
            " 5   membership_type  object\n",
            "dtypes: dbtime(1), object(5)\n",
            "memory usage: 263.5+ MB\n"
          ]
        }
      ]
    },
    {
      "cell_type": "markdown",
      "metadata": {
        "id": "84Ub57pbB6EN"
      },
      "source": [
        "## Show descriptive statistics using describe()\n",
        "Use the ```pandas DataFrame.describe()```\n",
        "[method](https://pandas.pydata.org/docs/reference/api/pandas.DataFrame.describe.html)\n",
        "to generate descriptive statistics. Descriptive statistics include those that\n",
        "summarize the central tendency, dispersion and shape of a dataset’s\n",
        "distribution, excluding ```NaN``` values. You may also use other Python methods\n",
        "to interact with your data."
      ]
    },
    {
      "cell_type": "code",
      "execution_count": 7,
      "metadata": {
        "id": "fsAsHoWDZMpv",
        "outputId": "8c427fb9-36f0-4703-a8ce-4678f09b6b3f",
        "colab": {
          "base_uri": "https://localhost:8080/",
          "height": 176
        }
      },
      "outputs": [
        {
          "output_type": "execute_result",
          "data": {
            "text/plain": [
              "         ride_id      ride_type ride_length      day    month membership_type\n",
              "count    5755506        5755506     5755506  5755506  5755506         5755506\n",
              "unique   5755490              3       21763        7       12               2\n",
              "top     4.85E+13  electric_bike    00:05:23      Sat     July          member\n",
              "freq           2        2935437        6419   939649   823465         3402563"
            ],
            "text/html": [
              "\n",
              "  <div id=\"df-042188dc-30eb-4e56-8f35-3434672cbcf0\">\n",
              "    <div class=\"colab-df-container\">\n",
              "      <div>\n",
              "<style scoped>\n",
              "    .dataframe tbody tr th:only-of-type {\n",
              "        vertical-align: middle;\n",
              "    }\n",
              "\n",
              "    .dataframe tbody tr th {\n",
              "        vertical-align: top;\n",
              "    }\n",
              "\n",
              "    .dataframe thead th {\n",
              "        text-align: right;\n",
              "    }\n",
              "</style>\n",
              "<table border=\"1\" class=\"dataframe\">\n",
              "  <thead>\n",
              "    <tr style=\"text-align: right;\">\n",
              "      <th></th>\n",
              "      <th>ride_id</th>\n",
              "      <th>ride_type</th>\n",
              "      <th>ride_length</th>\n",
              "      <th>day</th>\n",
              "      <th>month</th>\n",
              "      <th>membership_type</th>\n",
              "    </tr>\n",
              "  </thead>\n",
              "  <tbody>\n",
              "    <tr>\n",
              "      <th>count</th>\n",
              "      <td>5755506</td>\n",
              "      <td>5755506</td>\n",
              "      <td>5755506</td>\n",
              "      <td>5755506</td>\n",
              "      <td>5755506</td>\n",
              "      <td>5755506</td>\n",
              "    </tr>\n",
              "    <tr>\n",
              "      <th>unique</th>\n",
              "      <td>5755490</td>\n",
              "      <td>3</td>\n",
              "      <td>21763</td>\n",
              "      <td>7</td>\n",
              "      <td>12</td>\n",
              "      <td>2</td>\n",
              "    </tr>\n",
              "    <tr>\n",
              "      <th>top</th>\n",
              "      <td>4.85E+13</td>\n",
              "      <td>electric_bike</td>\n",
              "      <td>00:05:23</td>\n",
              "      <td>Sat</td>\n",
              "      <td>July</td>\n",
              "      <td>member</td>\n",
              "    </tr>\n",
              "    <tr>\n",
              "      <th>freq</th>\n",
              "      <td>2</td>\n",
              "      <td>2935437</td>\n",
              "      <td>6419</td>\n",
              "      <td>939649</td>\n",
              "      <td>823465</td>\n",
              "      <td>3402563</td>\n",
              "    </tr>\n",
              "  </tbody>\n",
              "</table>\n",
              "</div>\n",
              "      <button class=\"colab-df-convert\" onclick=\"convertToInteractive('df-042188dc-30eb-4e56-8f35-3434672cbcf0')\"\n",
              "              title=\"Convert this dataframe to an interactive table.\"\n",
              "              style=\"display:none;\">\n",
              "        \n",
              "  <svg xmlns=\"http://www.w3.org/2000/svg\" height=\"24px\"viewBox=\"0 0 24 24\"\n",
              "       width=\"24px\">\n",
              "    <path d=\"M0 0h24v24H0V0z\" fill=\"none\"/>\n",
              "    <path d=\"M18.56 5.44l.94 2.06.94-2.06 2.06-.94-2.06-.94-.94-2.06-.94 2.06-2.06.94zm-11 1L8.5 8.5l.94-2.06 2.06-.94-2.06-.94L8.5 2.5l-.94 2.06-2.06.94zm10 10l.94 2.06.94-2.06 2.06-.94-2.06-.94-.94-2.06-.94 2.06-2.06.94z\"/><path d=\"M17.41 7.96l-1.37-1.37c-.4-.4-.92-.59-1.43-.59-.52 0-1.04.2-1.43.59L10.3 9.45l-7.72 7.72c-.78.78-.78 2.05 0 2.83L4 21.41c.39.39.9.59 1.41.59.51 0 1.02-.2 1.41-.59l7.78-7.78 2.81-2.81c.8-.78.8-2.07 0-2.86zM5.41 20L4 18.59l7.72-7.72 1.47 1.35L5.41 20z\"/>\n",
              "  </svg>\n",
              "      </button>\n",
              "      \n",
              "  <style>\n",
              "    .colab-df-container {\n",
              "      display:flex;\n",
              "      flex-wrap:wrap;\n",
              "      gap: 12px;\n",
              "    }\n",
              "\n",
              "    .colab-df-convert {\n",
              "      background-color: #E8F0FE;\n",
              "      border: none;\n",
              "      border-radius: 50%;\n",
              "      cursor: pointer;\n",
              "      display: none;\n",
              "      fill: #1967D2;\n",
              "      height: 32px;\n",
              "      padding: 0 0 0 0;\n",
              "      width: 32px;\n",
              "    }\n",
              "\n",
              "    .colab-df-convert:hover {\n",
              "      background-color: #E2EBFA;\n",
              "      box-shadow: 0px 1px 2px rgba(60, 64, 67, 0.3), 0px 1px 3px 1px rgba(60, 64, 67, 0.15);\n",
              "      fill: #174EA6;\n",
              "    }\n",
              "\n",
              "    [theme=dark] .colab-df-convert {\n",
              "      background-color: #3B4455;\n",
              "      fill: #D2E3FC;\n",
              "    }\n",
              "\n",
              "    [theme=dark] .colab-df-convert:hover {\n",
              "      background-color: #434B5C;\n",
              "      box-shadow: 0px 1px 3px 1px rgba(0, 0, 0, 0.15);\n",
              "      filter: drop-shadow(0px 1px 2px rgba(0, 0, 0, 0.3));\n",
              "      fill: #FFFFFF;\n",
              "    }\n",
              "  </style>\n",
              "\n",
              "      <script>\n",
              "        const buttonEl =\n",
              "          document.querySelector('#df-042188dc-30eb-4e56-8f35-3434672cbcf0 button.colab-df-convert');\n",
              "        buttonEl.style.display =\n",
              "          google.colab.kernel.accessAllowed ? 'block' : 'none';\n",
              "\n",
              "        async function convertToInteractive(key) {\n",
              "          const element = document.querySelector('#df-042188dc-30eb-4e56-8f35-3434672cbcf0');\n",
              "          const dataTable =\n",
              "            await google.colab.kernel.invokeFunction('convertToInteractive',\n",
              "                                                     [key], {});\n",
              "          if (!dataTable) return;\n",
              "\n",
              "          const docLinkHtml = 'Like what you see? Visit the ' +\n",
              "            '<a target=\"_blank\" href=https://colab.research.google.com/notebooks/data_table.ipynb>data table notebook</a>'\n",
              "            + ' to learn more about interactive tables.';\n",
              "          element.innerHTML = '';\n",
              "          dataTable['output_type'] = 'display_data';\n",
              "          await google.colab.output.renderOutput(dataTable, element);\n",
              "          const docLink = document.createElement('div');\n",
              "          docLink.innerHTML = docLinkHtml;\n",
              "          element.appendChild(docLink);\n",
              "        }\n",
              "      </script>\n",
              "    </div>\n",
              "  </div>\n",
              "  "
            ],
            "application/vnd.google.colaboratory.module+javascript": "\n      import \"https://ssl.gstatic.com/colaboratory/data_table/a8bd4d5e58f96183/data_table.js\";\n\n      window.createDataTable({\n        data: [[\"count\",\n5755506,\n5755506,\n5755506,\n5755506,\n5755506,\n5755506],\n [\"unique\",\n5755490,\n3,\n21763,\n7,\n12,\n2],\n [\"top\",\n\"4.85E+13\",\n\"electric_bike\",\n\"00:05:23\",\n\"Sat\",\n\"July\",\n\"member\"],\n [\"freq\",\n2,\n2935437,\n6419,\n939649,\n823465,\n3402563]],\n        columns: [[\"string\", \"index\"], [\"string\", \"ride_id\"], [\"string\", \"ride_type\"], [\"string\", \"ride_length\"], [\"string\", \"day\"], [\"string\", \"month\"], [\"string\", \"membership_type\"]],\n        columnOptions: [{\"width\": \"1px\", \"className\": \"index_column\"}],\n        rowsPerPage: 25,\n        helpUrl: \"https://colab.research.google.com/notebooks/data_table.ipynb\",\n        suppressOutputScrolling: true,\n        minimumWidth: undefined,\n      });\n    "
          },
          "metadata": {},
          "execution_count": 7
        }
      ],
      "source": [
        "bikes_ride.describe()"
      ]
    },
    {
      "cell_type": "markdown",
      "source": [
        "## Data description showing:\n",
        "\n",
        "*   3 ride_types (classic, docked and electric) with electric_bike being the most used\n",
        "*   7 days with Saturday being the most frequent day\n",
        "*   12 months period with July being the busiest with 823,465 rides\n",
        "*   2 membership_types (casual and member) with majority of the customers being a member\n",
        "\n",
        "\n",
        "\n",
        "\n",
        "\n",
        "\n",
        "\n",
        "\n"
      ],
      "metadata": {
        "id": "bjYoQb1SWcVV"
      }
    },
    {
      "cell_type": "markdown",
      "source": [
        "## **Data Analysis**"
      ],
      "metadata": {
        "id": "v5IE0R3FYa39"
      }
    },
    {
      "cell_type": "code",
      "source": [
        "import pandas as pd\n",
        "import numpy as np\n",
        "import matplotlib.pyplot as plt\n",
        "import seaborn as sns\n",
        "import datetime as dt\n",
        "%matplotlib inline"
      ],
      "metadata": {
        "id": "zlRiLT28XZNc"
      },
      "execution_count": 33,
      "outputs": []
    },
    {
      "cell_type": "code",
      "source": [
        "bikes_ride['ride_length'].mode() "
      ],
      "metadata": {
        "colab": {
          "base_uri": "https://localhost:8080/"
        },
        "id": "L-NiBzxeejso",
        "outputId": "985220a3-0911-4db7-b504-1c63e2b425cc"
      },
      "execution_count": 9,
      "outputs": [
        {
          "output_type": "execute_result",
          "data": {
            "text/plain": [
              "0    00:05:23\n",
              "dtype: dbtime"
            ]
          },
          "metadata": {},
          "execution_count": 9
        }
      ]
    },
    {
      "cell_type": "code",
      "source": [
        "bikes_ride['ride_length'].min() \n"
      ],
      "metadata": {
        "colab": {
          "base_uri": "https://localhost:8080/"
        },
        "id": "nh3KAVmicBCo",
        "outputId": "d68b869b-98b9-410a-e71d-dd2e5ec8e9ca"
      },
      "execution_count": 10,
      "outputs": [
        {
          "output_type": "execute_result",
          "data": {
            "text/plain": [
              "datetime.time(0, 0)"
            ]
          },
          "metadata": {},
          "execution_count": 10
        }
      ]
    },
    {
      "cell_type": "code",
      "source": [
        "bikes_ride['ride_length'].max() "
      ],
      "metadata": {
        "colab": {
          "base_uri": "https://localhost:8080/"
        },
        "id": "BHCzOdy8cNeH",
        "outputId": "79a4abfd-9551-420a-e040-2cf1bcaa3b21"
      },
      "execution_count": 11,
      "outputs": [
        {
          "output_type": "execute_result",
          "data": {
            "text/plain": [
              "datetime.time(23, 59, 57)"
            ]
          },
          "metadata": {},
          "execution_count": 11
        }
      ]
    },
    {
      "cell_type": "markdown",
      "source": [
        "*   Most common ride duration was 5 mins 23 seconds\n",
        "*   The highest ride was for 23 hrs 59 mins 57 seconds\n",
        "\n"
      ],
      "metadata": {
        "id": "u0M2EJ_Kc_Ez"
      }
    },
    {
      "cell_type": "markdown",
      "source": [
        "#### Plot for membership_type and time taken to ride "
      ],
      "metadata": {
        "id": "JSKZuyt5doDO"
      }
    },
    {
      "cell_type": "markdown",
      "source": [
        "#### **Visualizing how the different bikes type are used**"
      ],
      "metadata": {
        "id": "uh2MEW7RmZW0"
      }
    },
    {
      "cell_type": "code",
      "source": [
        "sns.histplot(x=\"ride_type\", data=bikes_ride, stat =\"percent\") "
      ],
      "metadata": {
        "colab": {
          "base_uri": "https://localhost:8080/",
          "height": 298
        },
        "id": "DnUtGoW6lS1w",
        "outputId": "ea063826-6e12-46d3-f082-6e88739c32bd"
      },
      "execution_count": 12,
      "outputs": [
        {
          "output_type": "execute_result",
          "data": {
            "text/plain": [
              "<matplotlib.axes._subplots.AxesSubplot at 0x7f1b9164d810>"
            ]
          },
          "metadata": {},
          "execution_count": 12
        },
        {
          "output_type": "display_data",
          "data": {
            "text/plain": [
              "<Figure size 432x288 with 1 Axes>"
            ],
            "image/png": "[encoded data removed]"
          },
          "metadata": {
            "needs_background": "light"
          }
        }
      ]
    },
    {
      "cell_type": "markdown",
      "source": [
        "Percentage of rides by member and casual riders by ride_type"
      ],
      "metadata": {
        "id": "BYmw3YiDj5oR"
      }
    },
    {
      "cell_type": "code",
      "source": [
        "sns.histplot(binwidth=0.5, x=\"ride_type\", hue=\"membership_type\", data=bikes_ride, stat=\"percent\", multiple=\"stack\")"
      ],
      "metadata": {
        "colab": {
          "base_uri": "https://localhost:8080/",
          "height": 298
        },
        "id": "yNjc9RSvjkcN",
        "outputId": "71da478e-0c4e-4555-ae1c-6d623ae47d5c"
      },
      "execution_count": 30,
      "outputs": [
        {
          "output_type": "execute_result",
          "data": {
            "text/plain": [
              "<matplotlib.axes._subplots.AxesSubplot at 0x7f1b90e42f10>"
            ]
          },
          "metadata": {},
          "execution_count": 30
        },
        {
          "output_type": "display_data",
          "data": {
            "text/plain": [
              "<Figure size 432x288 with 1 Axes>"
            ],
            "image/png": "[encoded data removed]"
          },
          "metadata": {
            "needs_background": "light"
          }
        }
      ]
    },
    {
      "cell_type": "markdown",
      "source": [
        "#### **Relationship between day of the week and membership type**"
      ],
      "metadata": {
        "id": "d47P3bKwnUD_"
      }
    },
    {
      "cell_type": "code",
      "source": [
        "sns.histplot( x=\"day\", data=bikes_ride, stat=\"percent\") "
      ],
      "metadata": {
        "colab": {
          "base_uri": "https://localhost:8080/",
          "height": 296
        },
        "id": "-ptyk_kZnFX3",
        "outputId": "dd4a701b-524e-44c9-ca7c-3ca713124e0d"
      },
      "execution_count": 14,
      "outputs": [
        {
          "output_type": "execute_result",
          "data": {
            "text/plain": [
              "<matplotlib.axes._subplots.AxesSubplot at 0x7f1b90445990>"
            ]
          },
          "metadata": {},
          "execution_count": 14
        },
        {
          "output_type": "display_data",
          "data": {
            "text/plain": [
              "<Figure size 432x288 with 1 Axes>"
            ],
            "image/png": "[encoded data removed]"
          },
          "metadata": {
            "needs_background": "light"
          }
        }
      ]
    },
    {
      "cell_type": "markdown",
      "source": [
        "Percentage of rides by member and casual riders by day"
      ],
      "metadata": {
        "id": "XurqO-CjjxbG"
      }
    },
    {
      "cell_type": "code",
      "source": [
        "sns.histplot(binwidth=0.5, x=\"day\", hue=\"membership_type\", data=bikes_ride, stat=\"percent\", multiple=\"stack\")"
      ],
      "metadata": {
        "colab": {
          "base_uri": "https://localhost:8080/",
          "height": 296
        },
        "id": "xGFk2Tt1nQoJ",
        "outputId": "bfb2f4aa-dfcb-4dfa-c048-fc93bd43cca4"
      },
      "execution_count": 22,
      "outputs": [
        {
          "output_type": "execute_result",
          "data": {
            "text/plain": [
              "<matplotlib.axes._subplots.AxesSubplot at 0x7f1b90e906d0>"
            ]
          },
          "metadata": {},
          "execution_count": 22
        },
        {
          "output_type": "display_data",
          "data": {
            "text/plain": [
              "<Figure size 432x288 with 1 Axes>"
            ],
            "image/png": "[encoded data removed]"
          },
          "metadata": {
            "needs_background": "light"
          }
        }
      ]
    },
    {
      "cell_type": "markdown",
      "source": [
        "#### **Relationship between memebership type and month**"
      ],
      "metadata": {
        "id": "ZbXUt1LromKA"
      }
    },
    {
      "cell_type": "code",
      "source": [
        "#re-arranging the month for plotting purposes\n",
        "bikes_ride['month'] = pd.Categorical(bikes_ride['month'], [\"Jan\", \"Feb\", \"Mar\", \"Apr\", \"May\", \"June\", \"July\", \"Aug\", \"Sept\", \"Oct\", \"Nov\", \"Dec\"])  \n",
        "\n",
        "#plotting month by percentage of rides for the year period \n",
        "sns.histplot( x=\"month\", data=bikes_ride, stat='percent') "
      ],
      "metadata": {
        "colab": {
          "base_uri": "https://localhost:8080/",
          "height": 296
        },
        "id": "t5rOT_iyozCD",
        "outputId": "8ad31d4b-866d-45c7-bfb9-7f4f225dcb1f"
      },
      "execution_count": 32,
      "outputs": [
        {
          "output_type": "execute_result",
          "data": {
            "text/plain": [
              "<matplotlib.axes._subplots.AxesSubplot at 0x7f1b8f565350>"
            ]
          },
          "metadata": {},
          "execution_count": 32
        },
        {
          "output_type": "display_data",
          "data": {
            "text/plain": [
              "<Figure size 432x288 with 1 Axes>"
            ],
            "image/png": "[encoded data removed]"
          },
          "metadata": {
            "needs_background": "light"
          }
        }
      ]
    },
    {
      "cell_type": "markdown",
      "source": [
        "Percentage of rides by member and casual riders by month"
      ],
      "metadata": {
        "id": "BTQVO04TvCUW"
      }
    },
    {
      "cell_type": "code",
      "source": [
        "sns.histplot(binwidth=0.5, x=\"month\", hue=\"membership_type\", data=bikes_ride, stat=\"percent\", multiple=\"stack\")"
      ],
      "metadata": {
        "colab": {
          "base_uri": "https://localhost:8080/",
          "height": 296
        },
        "id": "u8OduJ8Eo37s",
        "outputId": "523dc9ec-f931-4077-9a5d-35c9a350cc31"
      },
      "execution_count": 26,
      "outputs": [
        {
          "output_type": "execute_result",
          "data": {
            "text/plain": [
              "<matplotlib.axes._subplots.AxesSubplot at 0x7f1b8fb63d10>"
            ]
          },
          "metadata": {},
          "execution_count": 26
        },
        {
          "output_type": "display_data",
          "data": {
            "text/plain": [
              "<Figure size 432x288 with 1 Axes>"
            ],
            "image/png": "[encoded data removed]"
          },
          "metadata": {
            "needs_background": "light"
          }
        }
      ]
    },
    {
      "cell_type": "markdown",
      "source": [
        "##**Findings**\n",
        "\n",
        "#### The following are the key findings from the analysis on how the two group of riders (casual and member) differ in terms of the company's bikes usage:\n",
        "\n",
        "\n",
        "*  The classic and electric bike are utilized by both member and casual rides. However, only the casual users utilize the docked bikes.\n",
        "\n",
        "*     The casual and member riders maintain similar ratio of users during the week days. However, casual members are more active during the weekends (Saturday and Sunday). This pushed Saturday rides to highest with 16% and casual members accouted for half of that.\n",
        "\n",
        "*   The casual riders are more frequent during the summer period of June, July, August and September. \n",
        "July is the busiest month of the year with 14% of the total percentage of rides. Casual riders account for approximately 7% of these rides in the month of July.\n",
        "\n",
        "\n",
        "\n"
      ],
      "metadata": {
        "id": "d1oGw-Uga9R0"
      }
    },
    {
      "cell_type": "markdown",
      "source": [
        "## **Recommendations**\n",
        "\n",
        "#### For the business to achieve its objective of trying to convert the casual riders to members, the following recommendations are made:\n",
        "\n",
        "\n",
        "\n",
        "*   The casual riders utilize more docked bikes probably because they have access to more docked stations and find it more accessible and flexible to use. Therefore, more docked bikes and stations should be provided with incentives such as discount, coupon or loyalty points to encourage these casual riders to become members.\n",
        "*   The marketing strategies designed such as advertisements or promotions should be broadcasted with additional efforts during the weekends to target these casual riders.\n",
        "*   Also, the summer period should see more promotions and advertisements as this can encourage the casual riders to become member riders.\n",
        "\n",
        "The company's stakeholders should take these steps to maximize the number of annual members they have as this is more profitable, and it will also reduce the cost of acqusition of new members in the long-term.\n",
        "\n",
        "\n",
        "\n",
        "\n",
        "\n",
        "\n",
        "\n",
        "\n"
      ],
      "metadata": {
        "id": "ZTY5QRSdeR0A"
      }
    },
    {
      "cell_type": "markdown",
      "source": [
        "### **Additional Analysis:**\n",
        "\n",
        "Additional analysis could have been done to further gain insights and provide more answers to the management's questions if data where available on the routes of the riders. That is, if there were full information on the starting and ending stations of the riders, we could have found out which routes are most frequent by the different categories of riders."
      ],
      "metadata": {
        "id": "K5yv76gchCUv"
      }
    }
  ],
  "metadata": {
    "colab": {
      "cell_execution_strategy": "setup",
      "provenance": [],
      "toc_visible": true,
      "include_colab_link": true
    },
    "kernelspec": {
      "display_name": "Python 3",
      "name": "python3"
    },
    "language_info": {
      "name": "python"
    }
  },
  "nbformat": 4,
  "nbformat_minor": 0
}